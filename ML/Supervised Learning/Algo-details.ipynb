{
 "cells": [
  {
   "cell_type": "markdown",
   "id": "7fb1117c-eeb0-49b7-b202-ba7c6cb7721e",
   "metadata": {
    "jp-MarkdownHeadingCollapsed": true
   },
   "source": [
    "#### Classification Algorithms\n",
    "Classification algorithms are used to categorize data into predefined classes or labels. These are widely used in various fields such as image recognition, sentiment analysis, and medical diagnosis.\n",
    "\n",
    "1. Machine Learning Classification Algorithms\n",
    "Logistic Regression: A linear model used for binary classification problems.\n",
    "Support Vector Machines (SVM): A linear or non-linear classifier that finds the optimal hyperplane to separate classes.\n",
    "k-Nearest Neighbors (k-NN): A non-parametric method that classifies based on the majority label of the k-nearest data points.\n",
    "Decision Trees: A tree-like model of decisions and their possible consequences, including outcomes and costs.\n",
    "Random Forest: An ensemble method that uses multiple decision trees to improve classification accuracy.\n",
    "Naive Bayes: A probabilistic classifier based on applying Bayes' theorem with strong independence assumptions.\n",
    "Gradient Boosting Machines (GBM): An ensemble technique that builds models sequentially to correct errors made by previous models (e.g., XGBoost, LightGBM).\n",
    "2. Deep Learning Classification Algorithms\n",
    "Artificial Neural Networks (ANNs): Multi-layered networks that learn hierarchical features from input data.\n",
    "Convolutional Neural Networks (CNNs): Primarily used for image classification, they detect patterns through convolutional layers.\n",
    "Recurrent Neural Networks (RNNs): Used for sequence data like time series or natural language processing, with memory of previous inputs.\n",
    "Long Short-Term Memory Networks (LSTMs): A type of RNN that is effective for learning long-term dependencies in sequential data.\n",
    "Transformers: Neural network architectures that use self-attention mechanisms, commonly used in NLP tasks (e.g., BERT, GPT).\n",
    "3. Generative AI Classification Algorithms\n",
    "Generative Adversarial Networks (GANs): Used to generate new data samples similar to the training data, with potential use in synthetic data generation.\n",
    "Variational Autoencoders (VAEs): A generative model that learns latent representations and can generate new data instances.\n",
    "Pretrained Language Models: Large-scale models like GPT, BERT, and T5, fine-tuned for classification tasks such as sentiment analysis and text classification."
   ]
  },
  {
   "cell_type": "markdown",
   "id": "9fc708c1-9c24-47cf-9e25-ff8085e74955",
   "metadata": {},
   "source": [
    "#### Non-Classification Algorithms\n",
    "These algorithms are used for tasks other than classification, such as regression, clustering, dimensionality reduction, and generative tasks.\n",
    "\n",
    "1. Machine Learning Non-Classification Algorithms\n",
    "Linear Regression: Predicts a continuous target variable based on input features.\n",
    "K-Means Clustering: Groups data points into k clusters based on similarity.\n",
    "Principal Component Analysis (PCA): A dimensionality reduction technique that transforms features into a smaller set of uncorrelated variables.\n",
    "DBSCAN (Density-Based Spatial Clustering of Applications with Noise): A clustering algorithm that identifies clusters in data based on density.\n",
    "2. Deep Learning Non-Classification Algorithms\n",
    "Autoencoders: A type of neural network used for dimensionality reduction and feature learning.\n",
    "Generative Adversarial Networks (GANs): Used for generating synthetic data, such as images or text.\n",
    "Reinforcement Learning: Involves learning policies for decision-making in an environment by rewarding desirable actions (e.g., DQN, PPO).\n",
    "3. Generative AI Non-Classification Algorithms\n",
    "GPT (Generative Pretrained Transformer): Generates human-like text and can be used for tasks such as text completion, summarization, and dialogue generation.\n",
    "StyleGAN: A type of GAN that generates high-quality images and can be used in creative tasks like art generation.\n",
    "DeepDream: An algorithm that enhances patterns in images, creating dream-like visuals.\n",
    "Stable Diffusion: Used for generating images from text descriptions (e.g., DALL-E)."
   ]
  },
  {
   "cell_type": "code",
   "execution_count": null,
   "id": "d2ff9e5e-ab33-4dcb-815d-eecda4936dd2",
   "metadata": {},
   "outputs": [],
   "source": []
  }
 ],
 "metadata": {
  "kernelspec": {
   "display_name": "Python 3 (ipykernel)",
   "language": "python",
   "name": "python3"
  },
  "language_info": {
   "codemirror_mode": {
    "name": "ipython",
    "version": 3
   },
   "file_extension": ".py",
   "mimetype": "text/x-python",
   "name": "python",
   "nbconvert_exporter": "python",
   "pygments_lexer": "ipython3",
   "version": "3.11.7"
  }
 },
 "nbformat": 4,
 "nbformat_minor": 5
}
